{
 "cells": [
  {
   "cell_type": "code",
   "execution_count": 17,
   "metadata": {},
   "outputs": [
    {
     "data": {
      "text/plain": [
       "(106969, 378607, 2170)"
      ]
     },
     "execution_count": 17,
     "metadata": {},
     "output_type": "execute_result"
    }
   ],
   "source": [
    "import pandas as pd\n",
    "# Attempt loading the files with utf-8 encoding\n",
    "df_seoul_apartment = pd.read_csv('./seoul_apartment.csv', encoding='utf-8')\n",
    "df_apt_info = pd.read_csv('./apt_info.csv', encoding='utf-8')\n",
    "\n",
    "# Standardize names for matching\n",
    "df_seoul_apartment['단지명_정제'] = df_seoul_apartment['단지명'].str.strip()\n",
    "df_apt_info['단지명_정제'] = df_apt_info['k-아파트명'].str.strip()\n",
    "\n",
    "# Merge on standardized apartment names to check for matches\n",
    "merged_df = pd.merge(df_seoul_apartment, df_apt_info, on='단지명_정제', how='inner')\n",
    "unmatched_seoul_apartment = df_seoul_apartment[~df_seoul_apartment['단지명_정제'].isin(merged_df['단지명_정제'])]\n",
    "unmatched_apt_info = df_apt_info[~df_apt_info['단지명_정제'].isin(merged_df['단지명_정제'])]\n",
    "\n",
    "# Display the counts of matched and unmatched entries\n",
    "matched_count = merged_df.shape[0]\n",
    "unmatched_seoul_count = unmatched_seoul_apartment.shape[0]\n",
    "unmatched_apt_info_count = unmatched_apt_info.shape[0]\n",
    "\n",
    "matched_count, unmatched_seoul_count, unmatched_apt_info_count"
   ]
  },
  {
   "cell_type": "code",
   "execution_count": null,
   "metadata": {},
   "outputs": [],
   "source": []
  },
  {
   "cell_type": "code",
   "execution_count": null,
   "metadata": {},
   "outputs": [],
   "source": []
  }
 ],
 "metadata": {
  "kernelspec": {
   "display_name": "xai",
   "language": "python",
   "name": "python3"
  },
  "language_info": {
   "codemirror_mode": {
    "name": "ipython",
    "version": 3
   },
   "file_extension": ".py",
   "mimetype": "text/x-python",
   "name": "python",
   "nbconvert_exporter": "python",
   "pygments_lexer": "ipython3",
   "version": "3.10.14"
  }
 },
 "nbformat": 4,
 "nbformat_minor": 2
}
